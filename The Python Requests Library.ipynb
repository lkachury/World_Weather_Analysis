{
 "cells": [
  {
   "cell_type": "markdown",
   "id": "ad377ad8",
   "metadata": {},
   "source": [
    "## The Python Requests Library\n",
    "To request JSON data over the internet, we use the Requests Library in Python. The Anaconda installation comes with version 2.22 of the Requests Library.\n",
    "\n",
    "Confirm you have the latest version of the Requests Library using the Jupyter Notebook environment. "
   ]
  },
  {
   "cell_type": "code",
   "execution_count": 1,
   "id": "6c394fbe",
   "metadata": {},
   "outputs": [
    {
     "data": {
      "text/plain": [
       "'2.27.1'"
      ]
     },
     "execution_count": 1,
     "metadata": {},
     "output_type": "execute_result"
    }
   ],
   "source": [
    "import requests\n",
    "requests.__version__"
   ]
  },
  {
   "cell_type": "markdown",
   "id": "297fa80e",
   "metadata": {},
   "source": [
    "The output should be 2.22.0 or later.\n",
    "\n",
    "If you have an older version, please upgrade it in your PythonData environment by typing \"conda install -c conda-forge requests\", at the command prompt and press Enter."
   ]
  }
 ],
 "metadata": {
  "kernelspec": {
   "display_name": "PythonData",
   "language": "python",
   "name": "pythondata"
  },
  "language_info": {
   "codemirror_mode": {
    "name": "ipython",
    "version": 3
   },
   "file_extension": ".py",
   "mimetype": "text/x-python",
   "name": "python",
   "nbconvert_exporter": "python",
   "pygments_lexer": "ipython3",
   "version": "3.7.13"
  }
 },
 "nbformat": 4,
 "nbformat_minor": 5
}
