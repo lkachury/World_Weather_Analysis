{
 "cells": [
  {
   "cell_type": "markdown",
   "id": "5b1a7505",
   "metadata": {},
   "source": [
    "## Generate Random Latitudes and Longitudes"
   ]
  },
  {
   "cell_type": "code",
   "execution_count": 13,
   "id": "2957d35a",
   "metadata": {},
   "outputs": [],
   "source": [
    "# Import the random module.\n",
    "import random"
   ]
  },
  {
   "cell_type": "code",
   "execution_count": 14,
   "id": "b4be643c",
   "metadata": {},
   "outputs": [],
   "source": [
    "#random.\n",
    "# For testing, we'll use the randint(), random(), randrange(), and uniform() functions."
   ]
  },
  {
   "cell_type": "markdown",
   "id": "9c615d88",
   "metadata": {},
   "source": [
    "### The randint() Function\n",
    "randint is short for \"random integer.\" "
   ]
  },
  {
   "cell_type": "code",
   "execution_count": 15,
   "id": "96998c4c",
   "metadata": {},
   "outputs": [
    {
     "data": {
      "text/plain": [
       "78"
      ]
     },
     "execution_count": 15,
     "metadata": {},
     "output_type": "execute_result"
    }
   ],
   "source": [
    "random.randint(-90, 90)"
   ]
  },
  {
   "cell_type": "markdown",
   "id": "cb68269e",
   "metadata": {},
   "source": [
    "### The random() Function\n",
    "Using the random() function, we can get a single floating-point decimal number between 0 and 1.0."
   ]
  },
  {
   "cell_type": "code",
   "execution_count": 16,
   "id": "8333e63b",
   "metadata": {},
   "outputs": [
    {
     "data": {
      "text/plain": [
       "0.7274811552339493"
      ]
     },
     "execution_count": 16,
     "metadata": {},
     "output_type": "execute_result"
    }
   ],
   "source": [
    "random.random()"
   ]
  },
  {
   "cell_type": "code",
   "execution_count": 17,
   "id": "dc01c5c8",
   "metadata": {},
   "outputs": [
    {
     "data": {
      "text/plain": [
       "[11.336312123399267,\n",
       " -48.639939901020504,\n",
       " 12.931730647229116,\n",
       " 55.83330813909636,\n",
       " 33.845719849477796,\n",
       " -68.19976352833149,\n",
       " 51.28597608327612,\n",
       " -71.5659959220016,\n",
       " -87.21834982951374,\n",
       " -40.40482243343229]"
      ]
     },
     "execution_count": 17,
     "metadata": {},
     "output_type": "execute_result"
    }
   ],
   "source": [
    "x = 1\n",
    "latitudes = []\n",
    "while x < 11:\n",
    "    random_lat = random.randint(-90, 89) + random.random()\n",
    "    latitudes.append(random_lat)\n",
    "    x += 1\n",
    "latitudes"
   ]
  },
  {
   "cell_type": "markdown",
   "id": "5bd01595",
   "metadata": {},
   "source": [
    "### The randrange() Function\n",
    "The randrange() function behaves differently than the previous two functions. Inside the parentheses, we need to add two numbers, a lower and upper limit, separated by a comma.\n",
    "\n",
    "For the randrange() function, there is an option to add a step parameter and set it equal to an integer, which will generate increments of a given integer value, from the lower to the upper limit."
   ]
  },
  {
   "cell_type": "code",
   "execution_count": 18,
   "id": "dcab16a4",
   "metadata": {},
   "outputs": [
    {
     "data": {
      "text/plain": [
       "48"
      ]
     },
     "execution_count": 18,
     "metadata": {},
     "output_type": "execute_result"
    }
   ],
   "source": [
    "# The output is a number between -90 and 90, where the step is the difference between each number in the sequence.\n",
    "random.randrange(-90, 90, step=1)"
   ]
  },
  {
   "cell_type": "code",
   "execution_count": 19,
   "id": "7404c124",
   "metadata": {},
   "outputs": [
    {
     "data": {
      "text/plain": [
       "24"
      ]
     },
     "execution_count": 19,
     "metadata": {},
     "output_type": "execute_result"
    }
   ],
   "source": [
    "# The output is a number between -90 and 90, where the difference between each number in the sequence is 3.\n",
    "random.randrange(-90, 90, step=3)"
   ]
  },
  {
   "cell_type": "markdown",
   "id": "073ab074",
   "metadata": {},
   "source": [
    "### The uniform() Function\n",
    "The uniform() function will allow us to generate a floating-point decimal number between two given numbers inside the parentheses."
   ]
  },
  {
   "cell_type": "code",
   "execution_count": 20,
   "id": "4e9ac6e2",
   "metadata": {},
   "outputs": [
    {
     "data": {
      "text/plain": [
       "77.82040844289651"
      ]
     },
     "execution_count": 20,
     "metadata": {},
     "output_type": "execute_result"
    }
   ],
   "source": [
    "random.uniform(-90, 90)"
   ]
  },
  {
   "cell_type": "markdown",
   "id": "2c7df0a7",
   "metadata": {},
   "source": [
    "### The NumPy and random Modules\n",
    "One way to generate more than a thousand latitudes and longitudes is to chain the NumPy module to the random module to create an array of latitudes or longitudes between the lowest and highest values, or -90° and 90°, and –180° and 180°, respectively. \n",
    "\n",
    "The NumPy module has a built-in random module, and supplements the built-in Python random module. There is no need to import the random module if we import the NumPy module, as it's redundant."
   ]
  },
  {
   "cell_type": "code",
   "execution_count": 21,
   "id": "2b9e4dbf",
   "metadata": {},
   "outputs": [],
   "source": [
    "# Import the NumPy module.\n",
    "import numpy as np"
   ]
  },
  {
   "cell_type": "code",
   "execution_count": 24,
   "id": "0cae5546",
   "metadata": {},
   "outputs": [
    {
     "data": {
      "text/plain": [
       "-14.716587444888702"
      ]
     },
     "execution_count": 24,
     "metadata": {},
     "output_type": "execute_result"
    }
   ],
   "source": [
    "np.random.uniform(-90.000, 90.000)"
   ]
  },
  {
   "cell_type": "code",
   "execution_count": 25,
   "id": "1e94c208",
   "metadata": {},
   "outputs": [
    {
     "data": {
      "text/plain": [
       "array([-35.45264482,  32.63187077,  48.07997498,  49.82529278,\n",
       "       -40.01809186,  72.74322509, -77.90678741, -51.52517628,\n",
       "        38.89934282, -52.96349654,  21.60081532,  15.82257778,\n",
       "        63.83158374, -29.01740987, -79.3054948 , -73.11833745,\n",
       "       -57.7159634 ,   5.33856583,  42.88649653,  49.47701976,\n",
       "       -10.09548098, -64.93535084,  37.38066265, -75.14421857,\n",
       "         2.33738036, -66.51345133, -74.98821999, -23.64505046,\n",
       "       -74.00421655, -66.05103425, -71.84008504,  63.66635777,\n",
       "        21.54372164, -31.45155018,   9.69045288,  84.96482614,\n",
       "       -12.43450207,  87.51731776, -17.26863657, -20.99996235,\n",
       "        -9.73174708,   5.52221934, -36.82670983, -33.72177863,\n",
       "        55.90512725,  33.43331872,  75.57413706, -57.99136353,\n",
       "       -39.08513577,  75.3052137 ])"
      ]
     },
     "execution_count": 25,
     "metadata": {},
     "output_type": "execute_result"
    }
   ],
   "source": [
    "# Another option is to write the parameters as np.random.uniform(low=-90, high=90)\n",
    "np.random.uniform(-90.000, 90.000, size=50)"
   ]
  },
  {
   "cell_type": "code",
   "execution_count": 26,
   "id": "9bf53e67",
   "metadata": {},
   "outputs": [],
   "source": [
    "# To test how long a piece of code or function takes to run, we can import the \"timeit\" module and use the %timeit magic command when we run our code or call the function.\n",
    "# Import timeit.\n",
    "import timeit"
   ]
  },
  {
   "cell_type": "code",
   "execution_count": 27,
   "id": "93bff3ce",
   "metadata": {},
   "outputs": [
    {
     "name": "stdout",
     "output_type": "stream",
     "text": [
      "13.6 µs ± 3.76 µs per loop (mean ± std. dev. of 7 runs, 100000 loops each)\n"
     ]
    }
   ],
   "source": [
    "%timeit np.random.uniform(-90.000, 90.000, size=1500)"
   ]
  },
  {
   "cell_type": "code",
   "execution_count": 28,
   "id": "aca4deef",
   "metadata": {},
   "outputs": [
    {
     "name": "stdout",
     "output_type": "stream",
     "text": [
      "1.61 ms ± 104 µs per loop (mean ± std. dev. of 7 runs, 1000 loops each)\n"
     ]
    }
   ],
   "source": [
    "def latitudes(size):\n",
    "    latitudes = []\n",
    "    x = 0\n",
    "    while x < (size):\n",
    "        random_lat = random.randint(-90, 90) + random.random()\n",
    "        latitudes.append(random_lat)\n",
    "        x += 1\n",
    "    return latitudes\n",
    "# Call the function with 1500.\n",
    "%timeit latitudes(1500)"
   ]
  },
  {
   "cell_type": "code",
   "execution_count": null,
   "id": "649bed55",
   "metadata": {},
   "outputs": [],
   "source": []
  }
 ],
 "metadata": {
  "kernelspec": {
   "display_name": "PythonData",
   "language": "python",
   "name": "pythondata"
  },
  "language_info": {
   "codemirror_mode": {
    "name": "ipython",
    "version": 3
   },
   "file_extension": ".py",
   "mimetype": "text/x-python",
   "name": "python",
   "nbconvert_exporter": "python",
   "pygments_lexer": "ipython3",
   "version": "3.7.13"
  }
 },
 "nbformat": 4,
 "nbformat_minor": 5
}
